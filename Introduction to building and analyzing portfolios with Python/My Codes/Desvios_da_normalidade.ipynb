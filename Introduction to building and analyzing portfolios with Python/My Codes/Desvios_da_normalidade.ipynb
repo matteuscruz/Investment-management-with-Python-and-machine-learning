{
  "nbformat": 4,
  "nbformat_minor": 0,
  "metadata": {
    "colab": {
      "provenance": []
    },
    "kernelspec": {
      "name": "python3",
      "display_name": "Python 3"
    },
    "language_info": {
      "name": "python"
    }
  },
  "cells": [
    {
      "cell_type": "code",
      "execution_count": 2,
      "metadata": {
        "colab": {
          "base_uri": "https://localhost:8080/"
        },
        "id": "9FF04T7kAP8B",
        "outputId": "6c74f82a-8060-4874-839e-029a561e7e8a"
      },
      "outputs": [
        {
          "output_type": "stream",
          "name": "stdout",
          "text": [
            "The autoreload extension is already loaded. To reload it, use:\n",
            "  %reload_ext autoreload\n"
          ]
        }
      ],
      "source": [
        "%load_ext autoreload\n",
        "%autoreload\n",
        "\n",
        "import pandas as pd"
      ]
    },
    {
      "cell_type": "markdown",
      "source": [
        "Por sinal. Então, se você tem uma situação em que tem uma série de retornos, em que o retorno médio é menor que o retorno médio, o que isso significa? Isso significa que a mediana, que é o que costuma acontecer muito, é menor do que a média, e a média é o valor esperado. O que isso significa é que você tem retornos distorcidos negativamente. Vou comparar a média e a mediana."
      ],
      "metadata": {
        "id": "aeYk7jujEAOm"
      }
    },
    {
      "cell_type": "code",
      "source": [
        "## Importando a base de dados\n",
        "## são os retornos, a partir de 1997,\n",
        "## os retornos mensais de vários tipos de fundos de hedge.\n",
        "hfi = pd.read_csv('/content/edhec-hedgefundindices.csv')\n",
        "hfi.head()"
      ],
      "metadata": {
        "colab": {
          "base_uri": "https://localhost:8080/",
          "height": 261
        },
        "id": "Oi_Zgc3yBxwo",
        "outputId": "cbde4b96-e9d6-41d2-981f-3e3f7936e8bf"
      },
      "execution_count": 4,
      "outputs": [
        {
          "output_type": "execute_result",
          "data": {
            "text/plain": [
              "         date  Convertible Arbitrage  CTA Global  Distressed Securities  \\\n",
              "0  31/01/1997                   1.19        3.93                   1.78   \n",
              "1  28/02/1997                   1.23        2.98                   1.22   \n",
              "2  31/03/1997                   0.78       -0.21                  -0.12   \n",
              "3  30/04/1997                   0.86       -1.70                   0.30   \n",
              "4  31/05/1997                   1.56       -0.15                   2.33   \n",
              "\n",
              "   Emerging Markets  Equity Market Neutral  Event Driven  \\\n",
              "0              7.91                   1.89          2.13   \n",
              "1              5.25                   1.01          0.84   \n",
              "2             -1.20                   0.16         -0.23   \n",
              "3              1.19                   1.19         -0.05   \n",
              "4              3.15                   1.89          3.46   \n",
              "\n",
              "   Fixed Income Arbitrage  Global Macro  Long/Short Equity  Merger Arbitrage  \\\n",
              "0                    1.91          5.73               2.81              1.50   \n",
              "1                    1.22          1.75              -0.06              0.34   \n",
              "2                    1.09         -1.19              -0.84              0.60   \n",
              "3                    1.30          1.72               0.84             -0.01   \n",
              "4                    1.18          1.08               3.94              1.97   \n",
              "\n",
              "   Relative Value  Short Selling  Funds Of Funds  \n",
              "0            1.80          -1.66            3.17  \n",
              "1            1.18           4.26            1.06  \n",
              "2            0.10           7.78           -0.77  \n",
              "3            1.22          -1.29            0.09  \n",
              "4            1.73          -7.37            2.75  "
            ],
            "text/html": [
              "\n",
              "  <div id=\"df-644f143b-70b6-4862-a458-f9d3934a748f\" class=\"colab-df-container\">\n",
              "    <div>\n",
              "<style scoped>\n",
              "    .dataframe tbody tr th:only-of-type {\n",
              "        vertical-align: middle;\n",
              "    }\n",
              "\n",
              "    .dataframe tbody tr th {\n",
              "        vertical-align: top;\n",
              "    }\n",
              "\n",
              "    .dataframe thead th {\n",
              "        text-align: right;\n",
              "    }\n",
              "</style>\n",
              "<table border=\"1\" class=\"dataframe\">\n",
              "  <thead>\n",
              "    <tr style=\"text-align: right;\">\n",
              "      <th></th>\n",
              "      <th>date</th>\n",
              "      <th>Convertible Arbitrage</th>\n",
              "      <th>CTA Global</th>\n",
              "      <th>Distressed Securities</th>\n",
              "      <th>Emerging Markets</th>\n",
              "      <th>Equity Market Neutral</th>\n",
              "      <th>Event Driven</th>\n",
              "      <th>Fixed Income Arbitrage</th>\n",
              "      <th>Global Macro</th>\n",
              "      <th>Long/Short Equity</th>\n",
              "      <th>Merger Arbitrage</th>\n",
              "      <th>Relative Value</th>\n",
              "      <th>Short Selling</th>\n",
              "      <th>Funds Of Funds</th>\n",
              "    </tr>\n",
              "  </thead>\n",
              "  <tbody>\n",
              "    <tr>\n",
              "      <th>0</th>\n",
              "      <td>31/01/1997</td>\n",
              "      <td>1.19</td>\n",
              "      <td>3.93</td>\n",
              "      <td>1.78</td>\n",
              "      <td>7.91</td>\n",
              "      <td>1.89</td>\n",
              "      <td>2.13</td>\n",
              "      <td>1.91</td>\n",
              "      <td>5.73</td>\n",
              "      <td>2.81</td>\n",
              "      <td>1.50</td>\n",
              "      <td>1.80</td>\n",
              "      <td>-1.66</td>\n",
              "      <td>3.17</td>\n",
              "    </tr>\n",
              "    <tr>\n",
              "      <th>1</th>\n",
              "      <td>28/02/1997</td>\n",
              "      <td>1.23</td>\n",
              "      <td>2.98</td>\n",
              "      <td>1.22</td>\n",
              "      <td>5.25</td>\n",
              "      <td>1.01</td>\n",
              "      <td>0.84</td>\n",
              "      <td>1.22</td>\n",
              "      <td>1.75</td>\n",
              "      <td>-0.06</td>\n",
              "      <td>0.34</td>\n",
              "      <td>1.18</td>\n",
              "      <td>4.26</td>\n",
              "      <td>1.06</td>\n",
              "    </tr>\n",
              "    <tr>\n",
              "      <th>2</th>\n",
              "      <td>31/03/1997</td>\n",
              "      <td>0.78</td>\n",
              "      <td>-0.21</td>\n",
              "      <td>-0.12</td>\n",
              "      <td>-1.20</td>\n",
              "      <td>0.16</td>\n",
              "      <td>-0.23</td>\n",
              "      <td>1.09</td>\n",
              "      <td>-1.19</td>\n",
              "      <td>-0.84</td>\n",
              "      <td>0.60</td>\n",
              "      <td>0.10</td>\n",
              "      <td>7.78</td>\n",
              "      <td>-0.77</td>\n",
              "    </tr>\n",
              "    <tr>\n",
              "      <th>3</th>\n",
              "      <td>30/04/1997</td>\n",
              "      <td>0.86</td>\n",
              "      <td>-1.70</td>\n",
              "      <td>0.30</td>\n",
              "      <td>1.19</td>\n",
              "      <td>1.19</td>\n",
              "      <td>-0.05</td>\n",
              "      <td>1.30</td>\n",
              "      <td>1.72</td>\n",
              "      <td>0.84</td>\n",
              "      <td>-0.01</td>\n",
              "      <td>1.22</td>\n",
              "      <td>-1.29</td>\n",
              "      <td>0.09</td>\n",
              "    </tr>\n",
              "    <tr>\n",
              "      <th>4</th>\n",
              "      <td>31/05/1997</td>\n",
              "      <td>1.56</td>\n",
              "      <td>-0.15</td>\n",
              "      <td>2.33</td>\n",
              "      <td>3.15</td>\n",
              "      <td>1.89</td>\n",
              "      <td>3.46</td>\n",
              "      <td>1.18</td>\n",
              "      <td>1.08</td>\n",
              "      <td>3.94</td>\n",
              "      <td>1.97</td>\n",
              "      <td>1.73</td>\n",
              "      <td>-7.37</td>\n",
              "      <td>2.75</td>\n",
              "    </tr>\n",
              "  </tbody>\n",
              "</table>\n",
              "</div>\n",
              "    <div class=\"colab-df-buttons\">\n",
              "\n",
              "  <div class=\"colab-df-container\">\n",
              "    <button class=\"colab-df-convert\" onclick=\"convertToInteractive('df-644f143b-70b6-4862-a458-f9d3934a748f')\"\n",
              "            title=\"Convert this dataframe to an interactive table.\"\n",
              "            style=\"display:none;\">\n",
              "\n",
              "  <svg xmlns=\"http://www.w3.org/2000/svg\" height=\"24px\" viewBox=\"0 -960 960 960\">\n",
              "    <path d=\"M120-120v-720h720v720H120Zm60-500h600v-160H180v160Zm220 220h160v-160H400v160Zm0 220h160v-160H400v160ZM180-400h160v-160H180v160Zm440 0h160v-160H620v160ZM180-180h160v-160H180v160Zm440 0h160v-160H620v160Z\"/>\n",
              "  </svg>\n",
              "    </button>\n",
              "\n",
              "  <style>\n",
              "    .colab-df-container {\n",
              "      display:flex;\n",
              "      gap: 12px;\n",
              "    }\n",
              "\n",
              "    .colab-df-convert {\n",
              "      background-color: #E8F0FE;\n",
              "      border: none;\n",
              "      border-radius: 50%;\n",
              "      cursor: pointer;\n",
              "      display: none;\n",
              "      fill: #1967D2;\n",
              "      height: 32px;\n",
              "      padding: 0 0 0 0;\n",
              "      width: 32px;\n",
              "    }\n",
              "\n",
              "    .colab-df-convert:hover {\n",
              "      background-color: #E2EBFA;\n",
              "      box-shadow: 0px 1px 2px rgba(60, 64, 67, 0.3), 0px 1px 3px 1px rgba(60, 64, 67, 0.15);\n",
              "      fill: #174EA6;\n",
              "    }\n",
              "\n",
              "    .colab-df-buttons div {\n",
              "      margin-bottom: 4px;\n",
              "    }\n",
              "\n",
              "    [theme=dark] .colab-df-convert {\n",
              "      background-color: #3B4455;\n",
              "      fill: #D2E3FC;\n",
              "    }\n",
              "\n",
              "    [theme=dark] .colab-df-convert:hover {\n",
              "      background-color: #434B5C;\n",
              "      box-shadow: 0px 1px 3px 1px rgba(0, 0, 0, 0.15);\n",
              "      filter: drop-shadow(0px 1px 2px rgba(0, 0, 0, 0.3));\n",
              "      fill: #FFFFFF;\n",
              "    }\n",
              "  </style>\n",
              "\n",
              "    <script>\n",
              "      const buttonEl =\n",
              "        document.querySelector('#df-644f143b-70b6-4862-a458-f9d3934a748f button.colab-df-convert');\n",
              "      buttonEl.style.display =\n",
              "        google.colab.kernel.accessAllowed ? 'block' : 'none';\n",
              "\n",
              "      async function convertToInteractive(key) {\n",
              "        const element = document.querySelector('#df-644f143b-70b6-4862-a458-f9d3934a748f');\n",
              "        const dataTable =\n",
              "          await google.colab.kernel.invokeFunction('convertToInteractive',\n",
              "                                                    [key], {});\n",
              "        if (!dataTable) return;\n",
              "\n",
              "        const docLinkHtml = 'Like what you see? Visit the ' +\n",
              "          '<a target=\"_blank\" href=https://colab.research.google.com/notebooks/data_table.ipynb>data table notebook</a>'\n",
              "          + ' to learn more about interactive tables.';\n",
              "        element.innerHTML = '';\n",
              "        dataTable['output_type'] = 'display_data';\n",
              "        await google.colab.output.renderOutput(dataTable, element);\n",
              "        const docLink = document.createElement('div');\n",
              "        docLink.innerHTML = docLinkHtml;\n",
              "        element.appendChild(docLink);\n",
              "      }\n",
              "    </script>\n",
              "  </div>\n",
              "\n",
              "\n",
              "<div id=\"df-c36d8306-aa55-441d-9bda-b423c2d0cc91\">\n",
              "  <button class=\"colab-df-quickchart\" onclick=\"quickchart('df-c36d8306-aa55-441d-9bda-b423c2d0cc91')\"\n",
              "            title=\"Suggest charts\"\n",
              "            style=\"display:none;\">\n",
              "\n",
              "<svg xmlns=\"http://www.w3.org/2000/svg\" height=\"24px\"viewBox=\"0 0 24 24\"\n",
              "     width=\"24px\">\n",
              "    <g>\n",
              "        <path d=\"M19 3H5c-1.1 0-2 .9-2 2v14c0 1.1.9 2 2 2h14c1.1 0 2-.9 2-2V5c0-1.1-.9-2-2-2zM9 17H7v-7h2v7zm4 0h-2V7h2v10zm4 0h-2v-4h2v4z\"/>\n",
              "    </g>\n",
              "</svg>\n",
              "  </button>\n",
              "\n",
              "<style>\n",
              "  .colab-df-quickchart {\n",
              "      --bg-color: #E8F0FE;\n",
              "      --fill-color: #1967D2;\n",
              "      --hover-bg-color: #E2EBFA;\n",
              "      --hover-fill-color: #174EA6;\n",
              "      --disabled-fill-color: #AAA;\n",
              "      --disabled-bg-color: #DDD;\n",
              "  }\n",
              "\n",
              "  [theme=dark] .colab-df-quickchart {\n",
              "      --bg-color: #3B4455;\n",
              "      --fill-color: #D2E3FC;\n",
              "      --hover-bg-color: #434B5C;\n",
              "      --hover-fill-color: #FFFFFF;\n",
              "      --disabled-bg-color: #3B4455;\n",
              "      --disabled-fill-color: #666;\n",
              "  }\n",
              "\n",
              "  .colab-df-quickchart {\n",
              "    background-color: var(--bg-color);\n",
              "    border: none;\n",
              "    border-radius: 50%;\n",
              "    cursor: pointer;\n",
              "    display: none;\n",
              "    fill: var(--fill-color);\n",
              "    height: 32px;\n",
              "    padding: 0;\n",
              "    width: 32px;\n",
              "  }\n",
              "\n",
              "  .colab-df-quickchart:hover {\n",
              "    background-color: var(--hover-bg-color);\n",
              "    box-shadow: 0 1px 2px rgba(60, 64, 67, 0.3), 0 1px 3px 1px rgba(60, 64, 67, 0.15);\n",
              "    fill: var(--button-hover-fill-color);\n",
              "  }\n",
              "\n",
              "  .colab-df-quickchart-complete:disabled,\n",
              "  .colab-df-quickchart-complete:disabled:hover {\n",
              "    background-color: var(--disabled-bg-color);\n",
              "    fill: var(--disabled-fill-color);\n",
              "    box-shadow: none;\n",
              "  }\n",
              "\n",
              "  .colab-df-spinner {\n",
              "    border: 2px solid var(--fill-color);\n",
              "    border-color: transparent;\n",
              "    border-bottom-color: var(--fill-color);\n",
              "    animation:\n",
              "      spin 1s steps(1) infinite;\n",
              "  }\n",
              "\n",
              "  @keyframes spin {\n",
              "    0% {\n",
              "      border-color: transparent;\n",
              "      border-bottom-color: var(--fill-color);\n",
              "      border-left-color: var(--fill-color);\n",
              "    }\n",
              "    20% {\n",
              "      border-color: transparent;\n",
              "      border-left-color: var(--fill-color);\n",
              "      border-top-color: var(--fill-color);\n",
              "    }\n",
              "    30% {\n",
              "      border-color: transparent;\n",
              "      border-left-color: var(--fill-color);\n",
              "      border-top-color: var(--fill-color);\n",
              "      border-right-color: var(--fill-color);\n",
              "    }\n",
              "    40% {\n",
              "      border-color: transparent;\n",
              "      border-right-color: var(--fill-color);\n",
              "      border-top-color: var(--fill-color);\n",
              "    }\n",
              "    60% {\n",
              "      border-color: transparent;\n",
              "      border-right-color: var(--fill-color);\n",
              "    }\n",
              "    80% {\n",
              "      border-color: transparent;\n",
              "      border-right-color: var(--fill-color);\n",
              "      border-bottom-color: var(--fill-color);\n",
              "    }\n",
              "    90% {\n",
              "      border-color: transparent;\n",
              "      border-bottom-color: var(--fill-color);\n",
              "    }\n",
              "  }\n",
              "</style>\n",
              "\n",
              "  <script>\n",
              "    async function quickchart(key) {\n",
              "      const quickchartButtonEl =\n",
              "        document.querySelector('#' + key + ' button');\n",
              "      quickchartButtonEl.disabled = true;  // To prevent multiple clicks.\n",
              "      quickchartButtonEl.classList.add('colab-df-spinner');\n",
              "      try {\n",
              "        const charts = await google.colab.kernel.invokeFunction(\n",
              "            'suggestCharts', [key], {});\n",
              "      } catch (error) {\n",
              "        console.error('Error during call to suggestCharts:', error);\n",
              "      }\n",
              "      quickchartButtonEl.classList.remove('colab-df-spinner');\n",
              "      quickchartButtonEl.classList.add('colab-df-quickchart-complete');\n",
              "    }\n",
              "    (() => {\n",
              "      let quickchartButtonEl =\n",
              "        document.querySelector('#df-c36d8306-aa55-441d-9bda-b423c2d0cc91 button');\n",
              "      quickchartButtonEl.style.display =\n",
              "        google.colab.kernel.accessAllowed ? 'block' : 'none';\n",
              "    })();\n",
              "  </script>\n",
              "</div>\n",
              "\n",
              "    </div>\n",
              "  </div>\n"
            ]
          },
          "metadata": {},
          "execution_count": 4
        }
      ]
    },
    {
      "cell_type": "code",
      "source": [
        "pd.concat([hfi.mean(),hfi.median(),hfi.mean()>hfi.median()], axis='columns')"
      ],
      "metadata": {
        "colab": {
          "base_uri": "https://localhost:8080/",
          "height": 616
        },
        "id": "dkJ1-BLNCl9A",
        "outputId": "dc952856-a8f5-4ddf-95b3-8dc55855ca55"
      },
      "execution_count": 7,
      "outputs": [
        {
          "output_type": "stream",
          "name": "stderr",
          "text": [
            "<ipython-input-7-ad7338191468>:1: FutureWarning: The default value of numeric_only in DataFrame.mean is deprecated. In a future version, it will default to False. In addition, specifying 'numeric_only=None' is deprecated. Select only valid columns or specify the value of numeric_only to silence this warning.\n",
            "  pd.concat([hfi.mean(),hfi.median(),hfi.mean()>hfi.median()], axis='columns')\n",
            "<ipython-input-7-ad7338191468>:1: FutureWarning: The default value of numeric_only in DataFrame.median is deprecated. In a future version, it will default to False. In addition, specifying 'numeric_only=None' is deprecated. Select only valid columns or specify the value of numeric_only to silence this warning.\n",
            "  pd.concat([hfi.mean(),hfi.median(),hfi.mean()>hfi.median()], axis='columns')\n",
            "<ipython-input-7-ad7338191468>:1: FutureWarning: The default value of numeric_only in DataFrame.mean is deprecated. In a future version, it will default to False. In addition, specifying 'numeric_only=None' is deprecated. Select only valid columns or specify the value of numeric_only to silence this warning.\n",
            "  pd.concat([hfi.mean(),hfi.median(),hfi.mean()>hfi.median()], axis='columns')\n",
            "<ipython-input-7-ad7338191468>:1: FutureWarning: The default value of numeric_only in DataFrame.median is deprecated. In a future version, it will default to False. In addition, specifying 'numeric_only=None' is deprecated. Select only valid columns or specify the value of numeric_only to silence this warning.\n",
            "  pd.concat([hfi.mean(),hfi.median(),hfi.mean()>hfi.median()], axis='columns')\n"
          ]
        },
        {
          "output_type": "execute_result",
          "data": {
            "text/plain": [
              "                               0     1      2\n",
              "Convertible Arbitrage   0.550837  0.65  False\n",
              "CTA Global              0.407376  0.14   True\n",
              "Distressed Securities   0.694601  0.89  False\n",
              "Emerging Markets        0.625323  0.96  False\n",
              "Equity Market Neutral   0.449810  0.51  False\n",
              "Event Driven            0.634449  0.84  False\n",
              "Fixed Income Arbitrage  0.436502  0.55  False\n",
              "Global Macro            0.540304  0.38   True\n",
              "Long/Short Equity       0.633080  0.79  False\n",
              "Merger Arbitrage        0.535589  0.60  False\n",
              "Relative Value          0.579202  0.67  False\n",
              "Short Selling          -0.170076 -0.53   True\n",
              "Funds Of Funds          0.426236  0.52  False"
            ],
            "text/html": [
              "\n",
              "  <div id=\"df-db0cb6f5-a463-4e53-93c8-c648a2fa3828\" class=\"colab-df-container\">\n",
              "    <div>\n",
              "<style scoped>\n",
              "    .dataframe tbody tr th:only-of-type {\n",
              "        vertical-align: middle;\n",
              "    }\n",
              "\n",
              "    .dataframe tbody tr th {\n",
              "        vertical-align: top;\n",
              "    }\n",
              "\n",
              "    .dataframe thead th {\n",
              "        text-align: right;\n",
              "    }\n",
              "</style>\n",
              "<table border=\"1\" class=\"dataframe\">\n",
              "  <thead>\n",
              "    <tr style=\"text-align: right;\">\n",
              "      <th></th>\n",
              "      <th>0</th>\n",
              "      <th>1</th>\n",
              "      <th>2</th>\n",
              "    </tr>\n",
              "  </thead>\n",
              "  <tbody>\n",
              "    <tr>\n",
              "      <th>Convertible Arbitrage</th>\n",
              "      <td>0.550837</td>\n",
              "      <td>0.65</td>\n",
              "      <td>False</td>\n",
              "    </tr>\n",
              "    <tr>\n",
              "      <th>CTA Global</th>\n",
              "      <td>0.407376</td>\n",
              "      <td>0.14</td>\n",
              "      <td>True</td>\n",
              "    </tr>\n",
              "    <tr>\n",
              "      <th>Distressed Securities</th>\n",
              "      <td>0.694601</td>\n",
              "      <td>0.89</td>\n",
              "      <td>False</td>\n",
              "    </tr>\n",
              "    <tr>\n",
              "      <th>Emerging Markets</th>\n",
              "      <td>0.625323</td>\n",
              "      <td>0.96</td>\n",
              "      <td>False</td>\n",
              "    </tr>\n",
              "    <tr>\n",
              "      <th>Equity Market Neutral</th>\n",
              "      <td>0.449810</td>\n",
              "      <td>0.51</td>\n",
              "      <td>False</td>\n",
              "    </tr>\n",
              "    <tr>\n",
              "      <th>Event Driven</th>\n",
              "      <td>0.634449</td>\n",
              "      <td>0.84</td>\n",
              "      <td>False</td>\n",
              "    </tr>\n",
              "    <tr>\n",
              "      <th>Fixed Income Arbitrage</th>\n",
              "      <td>0.436502</td>\n",
              "      <td>0.55</td>\n",
              "      <td>False</td>\n",
              "    </tr>\n",
              "    <tr>\n",
              "      <th>Global Macro</th>\n",
              "      <td>0.540304</td>\n",
              "      <td>0.38</td>\n",
              "      <td>True</td>\n",
              "    </tr>\n",
              "    <tr>\n",
              "      <th>Long/Short Equity</th>\n",
              "      <td>0.633080</td>\n",
              "      <td>0.79</td>\n",
              "      <td>False</td>\n",
              "    </tr>\n",
              "    <tr>\n",
              "      <th>Merger Arbitrage</th>\n",
              "      <td>0.535589</td>\n",
              "      <td>0.60</td>\n",
              "      <td>False</td>\n",
              "    </tr>\n",
              "    <tr>\n",
              "      <th>Relative Value</th>\n",
              "      <td>0.579202</td>\n",
              "      <td>0.67</td>\n",
              "      <td>False</td>\n",
              "    </tr>\n",
              "    <tr>\n",
              "      <th>Short Selling</th>\n",
              "      <td>-0.170076</td>\n",
              "      <td>-0.53</td>\n",
              "      <td>True</td>\n",
              "    </tr>\n",
              "    <tr>\n",
              "      <th>Funds Of Funds</th>\n",
              "      <td>0.426236</td>\n",
              "      <td>0.52</td>\n",
              "      <td>False</td>\n",
              "    </tr>\n",
              "  </tbody>\n",
              "</table>\n",
              "</div>\n",
              "    <div class=\"colab-df-buttons\">\n",
              "\n",
              "  <div class=\"colab-df-container\">\n",
              "    <button class=\"colab-df-convert\" onclick=\"convertToInteractive('df-db0cb6f5-a463-4e53-93c8-c648a2fa3828')\"\n",
              "            title=\"Convert this dataframe to an interactive table.\"\n",
              "            style=\"display:none;\">\n",
              "\n",
              "  <svg xmlns=\"http://www.w3.org/2000/svg\" height=\"24px\" viewBox=\"0 -960 960 960\">\n",
              "    <path d=\"M120-120v-720h720v720H120Zm60-500h600v-160H180v160Zm220 220h160v-160H400v160Zm0 220h160v-160H400v160ZM180-400h160v-160H180v160Zm440 0h160v-160H620v160ZM180-180h160v-160H180v160Zm440 0h160v-160H620v160Z\"/>\n",
              "  </svg>\n",
              "    </button>\n",
              "\n",
              "  <style>\n",
              "    .colab-df-container {\n",
              "      display:flex;\n",
              "      gap: 12px;\n",
              "    }\n",
              "\n",
              "    .colab-df-convert {\n",
              "      background-color: #E8F0FE;\n",
              "      border: none;\n",
              "      border-radius: 50%;\n",
              "      cursor: pointer;\n",
              "      display: none;\n",
              "      fill: #1967D2;\n",
              "      height: 32px;\n",
              "      padding: 0 0 0 0;\n",
              "      width: 32px;\n",
              "    }\n",
              "\n",
              "    .colab-df-convert:hover {\n",
              "      background-color: #E2EBFA;\n",
              "      box-shadow: 0px 1px 2px rgba(60, 64, 67, 0.3), 0px 1px 3px 1px rgba(60, 64, 67, 0.15);\n",
              "      fill: #174EA6;\n",
              "    }\n",
              "\n",
              "    .colab-df-buttons div {\n",
              "      margin-bottom: 4px;\n",
              "    }\n",
              "\n",
              "    [theme=dark] .colab-df-convert {\n",
              "      background-color: #3B4455;\n",
              "      fill: #D2E3FC;\n",
              "    }\n",
              "\n",
              "    [theme=dark] .colab-df-convert:hover {\n",
              "      background-color: #434B5C;\n",
              "      box-shadow: 0px 1px 3px 1px rgba(0, 0, 0, 0.15);\n",
              "      filter: drop-shadow(0px 1px 2px rgba(0, 0, 0, 0.3));\n",
              "      fill: #FFFFFF;\n",
              "    }\n",
              "  </style>\n",
              "\n",
              "    <script>\n",
              "      const buttonEl =\n",
              "        document.querySelector('#df-db0cb6f5-a463-4e53-93c8-c648a2fa3828 button.colab-df-convert');\n",
              "      buttonEl.style.display =\n",
              "        google.colab.kernel.accessAllowed ? 'block' : 'none';\n",
              "\n",
              "      async function convertToInteractive(key) {\n",
              "        const element = document.querySelector('#df-db0cb6f5-a463-4e53-93c8-c648a2fa3828');\n",
              "        const dataTable =\n",
              "          await google.colab.kernel.invokeFunction('convertToInteractive',\n",
              "                                                    [key], {});\n",
              "        if (!dataTable) return;\n",
              "\n",
              "        const docLinkHtml = 'Like what you see? Visit the ' +\n",
              "          '<a target=\"_blank\" href=https://colab.research.google.com/notebooks/data_table.ipynb>data table notebook</a>'\n",
              "          + ' to learn more about interactive tables.';\n",
              "        element.innerHTML = '';\n",
              "        dataTable['output_type'] = 'display_data';\n",
              "        await google.colab.output.renderOutput(dataTable, element);\n",
              "        const docLink = document.createElement('div');\n",
              "        docLink.innerHTML = docLinkHtml;\n",
              "        element.appendChild(docLink);\n",
              "      }\n",
              "    </script>\n",
              "  </div>\n",
              "\n",
              "\n",
              "<div id=\"df-0a84fefa-9c64-4d75-b766-fdb7cd95ddf5\">\n",
              "  <button class=\"colab-df-quickchart\" onclick=\"quickchart('df-0a84fefa-9c64-4d75-b766-fdb7cd95ddf5')\"\n",
              "            title=\"Suggest charts\"\n",
              "            style=\"display:none;\">\n",
              "\n",
              "<svg xmlns=\"http://www.w3.org/2000/svg\" height=\"24px\"viewBox=\"0 0 24 24\"\n",
              "     width=\"24px\">\n",
              "    <g>\n",
              "        <path d=\"M19 3H5c-1.1 0-2 .9-2 2v14c0 1.1.9 2 2 2h14c1.1 0 2-.9 2-2V5c0-1.1-.9-2-2-2zM9 17H7v-7h2v7zm4 0h-2V7h2v10zm4 0h-2v-4h2v4z\"/>\n",
              "    </g>\n",
              "</svg>\n",
              "  </button>\n",
              "\n",
              "<style>\n",
              "  .colab-df-quickchart {\n",
              "      --bg-color: #E8F0FE;\n",
              "      --fill-color: #1967D2;\n",
              "      --hover-bg-color: #E2EBFA;\n",
              "      --hover-fill-color: #174EA6;\n",
              "      --disabled-fill-color: #AAA;\n",
              "      --disabled-bg-color: #DDD;\n",
              "  }\n",
              "\n",
              "  [theme=dark] .colab-df-quickchart {\n",
              "      --bg-color: #3B4455;\n",
              "      --fill-color: #D2E3FC;\n",
              "      --hover-bg-color: #434B5C;\n",
              "      --hover-fill-color: #FFFFFF;\n",
              "      --disabled-bg-color: #3B4455;\n",
              "      --disabled-fill-color: #666;\n",
              "  }\n",
              "\n",
              "  .colab-df-quickchart {\n",
              "    background-color: var(--bg-color);\n",
              "    border: none;\n",
              "    border-radius: 50%;\n",
              "    cursor: pointer;\n",
              "    display: none;\n",
              "    fill: var(--fill-color);\n",
              "    height: 32px;\n",
              "    padding: 0;\n",
              "    width: 32px;\n",
              "  }\n",
              "\n",
              "  .colab-df-quickchart:hover {\n",
              "    background-color: var(--hover-bg-color);\n",
              "    box-shadow: 0 1px 2px rgba(60, 64, 67, 0.3), 0 1px 3px 1px rgba(60, 64, 67, 0.15);\n",
              "    fill: var(--button-hover-fill-color);\n",
              "  }\n",
              "\n",
              "  .colab-df-quickchart-complete:disabled,\n",
              "  .colab-df-quickchart-complete:disabled:hover {\n",
              "    background-color: var(--disabled-bg-color);\n",
              "    fill: var(--disabled-fill-color);\n",
              "    box-shadow: none;\n",
              "  }\n",
              "\n",
              "  .colab-df-spinner {\n",
              "    border: 2px solid var(--fill-color);\n",
              "    border-color: transparent;\n",
              "    border-bottom-color: var(--fill-color);\n",
              "    animation:\n",
              "      spin 1s steps(1) infinite;\n",
              "  }\n",
              "\n",
              "  @keyframes spin {\n",
              "    0% {\n",
              "      border-color: transparent;\n",
              "      border-bottom-color: var(--fill-color);\n",
              "      border-left-color: var(--fill-color);\n",
              "    }\n",
              "    20% {\n",
              "      border-color: transparent;\n",
              "      border-left-color: var(--fill-color);\n",
              "      border-top-color: var(--fill-color);\n",
              "    }\n",
              "    30% {\n",
              "      border-color: transparent;\n",
              "      border-left-color: var(--fill-color);\n",
              "      border-top-color: var(--fill-color);\n",
              "      border-right-color: var(--fill-color);\n",
              "    }\n",
              "    40% {\n",
              "      border-color: transparent;\n",
              "      border-right-color: var(--fill-color);\n",
              "      border-top-color: var(--fill-color);\n",
              "    }\n",
              "    60% {\n",
              "      border-color: transparent;\n",
              "      border-right-color: var(--fill-color);\n",
              "    }\n",
              "    80% {\n",
              "      border-color: transparent;\n",
              "      border-right-color: var(--fill-color);\n",
              "      border-bottom-color: var(--fill-color);\n",
              "    }\n",
              "    90% {\n",
              "      border-color: transparent;\n",
              "      border-bottom-color: var(--fill-color);\n",
              "    }\n",
              "  }\n",
              "</style>\n",
              "\n",
              "  <script>\n",
              "    async function quickchart(key) {\n",
              "      const quickchartButtonEl =\n",
              "        document.querySelector('#' + key + ' button');\n",
              "      quickchartButtonEl.disabled = true;  // To prevent multiple clicks.\n",
              "      quickchartButtonEl.classList.add('colab-df-spinner');\n",
              "      try {\n",
              "        const charts = await google.colab.kernel.invokeFunction(\n",
              "            'suggestCharts', [key], {});\n",
              "      } catch (error) {\n",
              "        console.error('Error during call to suggestCharts:', error);\n",
              "      }\n",
              "      quickchartButtonEl.classList.remove('colab-df-spinner');\n",
              "      quickchartButtonEl.classList.add('colab-df-quickchart-complete');\n",
              "    }\n",
              "    (() => {\n",
              "      let quickchartButtonEl =\n",
              "        document.querySelector('#df-0a84fefa-9c64-4d75-b766-fdb7cd95ddf5 button');\n",
              "      quickchartButtonEl.style.display =\n",
              "        google.colab.kernel.accessAllowed ? 'block' : 'none';\n",
              "    })();\n",
              "  </script>\n",
              "</div>\n",
              "\n",
              "    </div>\n",
              "  </div>\n"
            ]
          },
          "metadata": {},
          "execution_count": 7
        }
      ]
    },
    {
      "cell_type": "markdown",
      "source": [
        " Veja isso, em praticamente todos os casos, vemos que a média é maior do que a mediana. O que isso está basicamente dizendo é que, além de CTA Global e Global macro, todas essas, e talvez vendas a descoberto, todas elas têm uma distorção negativa significativa."
      ],
      "metadata": {
        "id": "oHCnwwz6EY00"
      }
    },
    {
      "cell_type": "markdown",
      "source": [
        "$S(R)=\\frac{E[(R-E(R))^{3}]}{\\sigma^{3}_{R}}$\n",
        "\n"
      ],
      "metadata": {
        "id": "J-CDbCd4Jirm"
      }
    },
    {
      "cell_type": "markdown",
      "source": [
        "Então, o que estamos fazendo aqui? Então, a primeira coisa é que temos que calcular r menos o valor esperado de r. O valor esperado de r é a média de r. Então, essa é uma maneira elegante de dizer, rebaixar r. Então, pegamos a série de retorno e você produz r humilhado. É justo? Então, o que você precisa fazer é produzir essa segunda peça aqui e aquela segunda peça aqui é apenas o cubo da volatilidade. Então é isso que estou fazendo aqui. O sigma r é a volatilidade. Se você se lembra, tínhamos essa distinção entre a população e a amostra. Então, estou enviando que ddof é igual a zero, o que significa que os graus de liberdade foram definidos como zero, o que basicamente significa que não faça essa correção n menos uma. Realmente não importa se você tem dados suficientes, então dividir por n ou n menos um resultará em números ligeiramente diferentes."
      ],
      "metadata": {
        "id": "2uWYSckUKVsS"
      }
    },
    {
      "cell_type": "code",
      "source": [
        "def skewness(r):\n",
        "    demeaned_r = r - r.mean()\n",
        "    sigma_r = r.std(ddof=0)\n",
        "    exp = (demeaned_r**3).mean()\n",
        "    return exp/sigma_r**3"
      ],
      "metadata": {
        "id": "d5ZQvG_9DjoG"
      },
      "execution_count": 20,
      "outputs": []
    },
    {
      "cell_type": "code",
      "source": [
        "skewness(hfi).sort_values()"
      ],
      "metadata": {
        "colab": {
          "base_uri": "https://localhost:8080/"
        },
        "id": "2gNOsUJ1LDFt",
        "outputId": "c3ed1811-56f2-48c9-8690-111fd3468cac"
      },
      "execution_count": 9,
      "outputs": [
        {
          "output_type": "stream",
          "name": "stderr",
          "text": [
            "<ipython-input-8-9a7f874393da>:2: FutureWarning: The default value of numeric_only in DataFrame.mean is deprecated. In a future version, it will default to False. In addition, specifying 'numeric_only=None' is deprecated. Select only valid columns or specify the value of numeric_only to silence this warning.\n",
            "  demeaned_r = r - r.mean()\n",
            "<ipython-input-8-9a7f874393da>:3: FutureWarning: The default value of numeric_only in DataFrame.std is deprecated. In a future version, it will default to False. In addition, specifying 'numeric_only=None' is deprecated. Select only valid columns or specify the value of numeric_only to silence this warning.\n",
            "  sigma_r = r.std(ddof=0)\n"
          ]
        },
        {
          "output_type": "execute_result",
          "data": {
            "text/plain": [
              "Fixed Income Arbitrage   -3.940320\n",
              "Convertible Arbitrage    -2.639592\n",
              "Equity Market Neutral    -2.124435\n",
              "Relative Value           -1.815470\n",
              "Event Driven             -1.409154\n",
              "Merger Arbitrage         -1.320083\n",
              "Distressed Securities    -1.300842\n",
              "Emerging Markets         -1.167067\n",
              "Long/Short Equity        -0.390227\n",
              "Funds Of Funds           -0.361783\n",
              "CTA Global                0.173699\n",
              "Short Selling             0.767975\n",
              "Global Macro              0.982922\n",
              "date                           NaN\n",
              "dtype: float64"
            ]
          },
          "metadata": {},
          "execution_count": 9
        }
      ]
    },
    {
      "cell_type": "code",
      "source": [
        "import scipy.stats"
      ],
      "metadata": {
        "id": "8q92Rvy5LI5i"
      },
      "execution_count": 10,
      "outputs": []
    },
    {
      "cell_type": "code",
      "source": [
        "hfi_numeric = hfi.apply(pd.to_numeric, errors='coerce')\n",
        "scipy.stats.skew(hfi_numeric)"
      ],
      "metadata": {
        "colab": {
          "base_uri": "https://localhost:8080/"
        },
        "id": "V2TTa0FJLYlK",
        "outputId": "a2b77bc0-92fe-4cd4-851a-625963785645"
      },
      "execution_count": 22,
      "outputs": [
        {
          "output_type": "execute_result",
          "data": {
            "text/plain": [
              "array([        nan, -2.63959223,  0.17369864, -1.30084204, -1.16706749,\n",
              "       -2.12443538, -1.40915356, -3.94032029,  0.98292188, -0.39022677,\n",
              "       -1.32008333, -1.81546975,  0.76797484, -0.36178308])"
            ]
          },
          "metadata": {},
          "execution_count": 22
        }
      ]
    },
    {
      "cell_type": "markdown",
      "source": [
        "Vamos gerar retornos de, digamos, uma média de zero, desvio padrão de 15% e vamos gerar exatamente o mesmo número de retornos que tivemos aqui. Só para que possamos compará-lo."
      ],
      "metadata": {
        "id": "P0yM4eyvMT-i"
      }
    },
    {
      "cell_type": "code",
      "source": [
        "import numpy as np"
      ],
      "metadata": {
        "id": "RK9qV0QYLneR"
      },
      "execution_count": 23,
      "outputs": []
    },
    {
      "cell_type": "code",
      "source": [
        "normal_rets = np.random.normal(0, .15, size=(26300,1))"
      ],
      "metadata": {
        "id": "3gMJ9psMMJt-"
      },
      "execution_count": 24,
      "outputs": []
    },
    {
      "cell_type": "code",
      "source": [
        "skewness(normal_rets)"
      ],
      "metadata": {
        "colab": {
          "base_uri": "https://localhost:8080/"
        },
        "id": "c6lt5cn9McGx",
        "outputId": "86ddd73b-8018-4a13-8634-cc98f54ca177"
      },
      "execution_count": 25,
      "outputs": [
        {
          "output_type": "execute_result",
          "data": {
            "text/plain": [
              "-0.00860769352372155"
            ]
          },
          "metadata": {},
          "execution_count": 25
        }
      ]
    },
    {
      "cell_type": "markdown",
      "source": [
        "$K(R)=\\frac{E[R-E(R)^{4}]}{\\sigma_{R}^{4}}$"
      ],
      "metadata": {
        "id": "eiYU08X6R_zZ"
      }
    },
    {
      "cell_type": "code",
      "source": [
        "def kurtosis(r):\n",
        "    demeaned_r = r - r.mean()\n",
        "    sigma_r = r.std(ddof=0)\n",
        "    exp = (demeaned_r**4).mean()\n",
        "    return exp/sigma_r**4"
      ],
      "metadata": {
        "id": "DADeIwHoMtev"
      },
      "execution_count": 26,
      "outputs": []
    },
    {
      "cell_type": "code",
      "source": [
        "kurtosis(normal_rets)"
      ],
      "metadata": {
        "colab": {
          "base_uri": "https://localhost:8080/"
        },
        "id": "aUHFdu09STG8",
        "outputId": "76561d92-9001-4f31-a734-a298dd84fc95"
      },
      "execution_count": 27,
      "outputs": [
        {
          "output_type": "execute_result",
          "data": {
            "text/plain": [
              "3.050298302146261"
            ]
          },
          "metadata": {},
          "execution_count": 27
        }
      ]
    },
    {
      "cell_type": "code",
      "source": [
        "kurtosis(hfi)"
      ],
      "metadata": {
        "colab": {
          "base_uri": "https://localhost:8080/"
        },
        "id": "0gLLNjQLSVdL",
        "outputId": "c42be41d-72b9-4379-9a5d-f3ff4d580ffd"
      },
      "execution_count": 29,
      "outputs": [
        {
          "output_type": "stream",
          "name": "stderr",
          "text": [
            "<ipython-input-26-f41a38c79fed>:2: FutureWarning: The default value of numeric_only in DataFrame.mean is deprecated. In a future version, it will default to False. In addition, specifying 'numeric_only=None' is deprecated. Select only valid columns or specify the value of numeric_only to silence this warning.\n",
            "  demeaned_r = r - r.mean()\n",
            "<ipython-input-26-f41a38c79fed>:3: FutureWarning: The default value of numeric_only in DataFrame.std is deprecated. In a future version, it will default to False. In addition, specifying 'numeric_only=None' is deprecated. Select only valid columns or specify the value of numeric_only to silence this warning.\n",
            "  sigma_r = r.std(ddof=0)\n"
          ]
        },
        {
          "output_type": "execute_result",
          "data": {
            "text/plain": [
              "CTA Global                 2.952960\n",
              "Convertible Arbitrage     23.280834\n",
              "Distressed Securities      7.889983\n",
              "Emerging Markets           9.250788\n",
              "Equity Market Neutral     17.218555\n",
              "Event Driven               8.035828\n",
              "Fixed Income Arbitrage    29.842199\n",
              "Funds Of Funds             7.070153\n",
              "Global Macro               5.741679\n",
              "Long/Short Equity          4.523893\n",
              "Merger Arbitrage           8.738950\n",
              "Relative Value            12.121208\n",
              "Short Selling              6.117772\n",
              "date                            NaN\n",
              "dtype: float64"
            ]
          },
          "metadata": {},
          "execution_count": 29
        }
      ]
    },
    {
      "cell_type": "code",
      "source": [
        "hfi_numeric = hfi.apply(pd.to_numeric, errors='coerce')\n",
        "scipy.stats.kurtosis(hfi_numeric)"
      ],
      "metadata": {
        "colab": {
          "base_uri": "https://localhost:8080/"
        },
        "id": "qqcuyXegSXZH",
        "outputId": "c220533d-381d-4412-cfa3-af4503a48c33"
      },
      "execution_count": 31,
      "outputs": [
        {
          "output_type": "execute_result",
          "data": {
            "text/plain": [
              "array([        nan, 20.28083446, -0.04703963,  4.88998336,  6.25078841,\n",
              "       14.21855526,  5.03582817, 26.84219928,  2.74167945,  1.52389258,\n",
              "        5.73894979,  9.12120787,  3.11777175,  4.07015278])"
            ]
          },
          "metadata": {},
          "execution_count": 31
        }
      ]
    },
    {
      "cell_type": "code",
      "source": [
        "import scipy.stats\n",
        "def is_normal(r, level=0.01):\n",
        "    if isinstance(r, pd.DataFrame):\n",
        "        return r.aggregate(is_normal)\n",
        "    else:\n",
        "        statistic, p_value = scipy.stats.jarque_bera(r)\n",
        "        return p_value > level"
      ],
      "metadata": {
        "id": "nczj4_nqSgyK"
      },
      "execution_count": 32,
      "outputs": []
    },
    {
      "cell_type": "code",
      "source": [
        "hfi_numeric = hfi.apply(pd.to_numeric, errors='coerce')\n",
        "is_normal(hfi_numeric)"
      ],
      "metadata": {
        "colab": {
          "base_uri": "https://localhost:8080/"
        },
        "id": "bF5709isTiHs",
        "outputId": "081b09d0-8d8e-45d6-91ce-58085c93cf33"
      },
      "execution_count": 34,
      "outputs": [
        {
          "output_type": "execute_result",
          "data": {
            "text/plain": [
              "date                      False\n",
              "Convertible Arbitrage     False\n",
              "CTA Global                 True\n",
              "Distressed Securities     False\n",
              "Emerging Markets          False\n",
              "Equity Market Neutral     False\n",
              "Event Driven              False\n",
              "Fixed Income Arbitrage    False\n",
              "Global Macro              False\n",
              "Long/Short Equity         False\n",
              "Merger Arbitrage          False\n",
              "Relative Value            False\n",
              "Short Selling             False\n",
              "Funds Of Funds            False\n",
              "dtype: bool"
            ]
          },
          "metadata": {},
          "execution_count": 34
        }
      ]
    },
    {
      "cell_type": "code",
      "source": [],
      "metadata": {
        "id": "I-eYrerxUath"
      },
      "execution_count": null,
      "outputs": []
    }
  ]
}