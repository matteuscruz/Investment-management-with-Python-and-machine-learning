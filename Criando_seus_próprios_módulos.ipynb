{
  "nbformat": 4,
  "nbformat_minor": 0,
  "metadata": {
    "colab": {
      "provenance": [],
      "authorship_tag": "ABX9TyOX7NN1ABY7CGGiebITHEld",
      "include_colab_link": true
    },
    "kernelspec": {
      "name": "python3",
      "display_name": "Python 3"
    },
    "language_info": {
      "name": "python"
    }
  },
  "cells": [
    {
      "cell_type": "markdown",
      "metadata": {
        "id": "view-in-github",
        "colab_type": "text"
      },
      "source": [
        "<a href=\"https://colab.research.google.com/github/matteuscruz/Investment-management-with-Python-and-machine-learning/blob/main/Criando_seus_pr%C3%B3prios_m%C3%B3dulos.ipynb\" target=\"_parent\"><img src=\"https://colab.research.google.com/assets/colab-badge.svg\" alt=\"Open In Colab\"/></a>"
      ]
    },
    {
      "cell_type": "markdown",
      "source": [
        "### Criando módulos"
      ],
      "metadata": {
        "id": "iWSflp_NM7Eg"
      }
    },
    {
      "cell_type": "markdown",
      "source": [
        "A maneira como você deve pensar sobre um módulo em Python é que, conceitualmente, ele não é muito mais do que um arquivo que contém código Python."
      ],
      "metadata": {
        "id": "bR_VDF_cNIII"
      }
    },
    {
      "cell_type": "markdown",
      "source": [
        "### Instruções:"
      ],
      "metadata": {
        "id": "TWhIvocLNTAH"
      }
    },
    {
      "cell_type": "markdown",
      "source": [
        "1. Crie um arquivo com o nome \"hello.py\";\n",
        "2. Introuza dentro deste script o seguinte comando \"message = 'Olá mundo'\";\n",
        "3. Importe este módulo através do comando \"import hello as h\";\n",
        "4. Recupere a mensagem através do comando \"h.message\";"
      ],
      "metadata": {
        "id": "ejqnLwbANWO1"
      }
    },
    {
      "cell_type": "markdown",
      "source": [
        "O código abaixo faz isso de forma automática."
      ],
      "metadata": {
        "id": "y3K8u7BdOwoW"
      }
    },
    {
      "cell_type": "code",
      "source": [
        "!touch hello.py"
      ],
      "metadata": {
        "id": "HOvfFYrHN_tX"
      },
      "execution_count": 4,
      "outputs": []
    },
    {
      "cell_type": "code",
      "source": [
        "!echo \"message = 'Olá mundo'\" >> hello.py"
      ],
      "metadata": {
        "id": "PLUlXZvoOmEV"
      },
      "execution_count": 5,
      "outputs": []
    },
    {
      "cell_type": "code",
      "source": [
        "import hello as h"
      ],
      "metadata": {
        "id": "b9nt3tqgM_XN"
      },
      "execution_count": 6,
      "outputs": []
    },
    {
      "cell_type": "code",
      "source": [
        "h.message"
      ],
      "metadata": {
        "colab": {
          "base_uri": "https://localhost:8080/",
          "height": 36
        },
        "id": "xslcjng8O4W5",
        "outputId": "970b367c-8f18-40c5-c7c1-5622b254fa77"
      },
      "execution_count": 7,
      "outputs": [
        {
          "output_type": "execute_result",
          "data": {
            "text/plain": [
              "'Olá mundo'"
            ],
            "application/vnd.google.colaboratory.intrinsic+json": {
              "type": "string"
            }
          },
          "metadata": {},
          "execution_count": 7
        }
      ]
    },
    {
      "cell_type": "code",
      "source": [],
      "metadata": {
        "id": "5Xy1iAvaO5YR"
      },
      "execution_count": null,
      "outputs": []
    }
  ]
}